{
 "cells": [
  {
   "cell_type": "markdown",
   "metadata": {},
   "source": [
    "1. Use https://www.nist.gov/node/1298471/emnist-dataset EMNIST ByClass datasets from scikit-learn\n",
    "2. Use matlab file version\n",
    "3. Use pandas to store and view data and perform descriptive statistics\n",
    "4. Use pandas groupby to view data by classes, digits, letters\n",
    "5. Display images of digits\n",
    "6. Demonstrate pre-processing steps of scaling, gray-scaling, centering (sample, feature etc)\n",
    "7. Use image augmentation to generate larger training dataset (flip, rotate, translate, shear, noise etc)\n",
    "8. Splitting of train/test datasets\n",
    "9. Logistic Regression modelling using scikit-learn\n",
    "10. Model performance results - precision, recall, F1 Score, ROC Curve\n",
    "11. Print and display confusion matrix\n",
    "12. Write report to explain process and results"
   ]
  },
  {
   "cell_type": "code",
   "execution_count": 52,
   "metadata": {},
   "outputs": [],
   "source": [
    "import numpy as np\n",
    "import pandas as pd\n",
    "from pandas import Series,DataFrame\n",
    "import matplotlib.pyplot as plt\n",
    "%matplotlib inline"
   ]
  },
  {
   "cell_type": "code",
   "execution_count": 53,
   "metadata": {},
   "outputs": [],
   "source": [
    "import tensorflow as tf\n",
    "import keras\n",
    "import sklearn\n",
    "from sklearn.model_selection import train_test_split"
   ]
  },
  {
   "cell_type": "code",
   "execution_count": 4,
   "metadata": {},
   "outputs": [],
   "source": [
    "from keras.utils import to_categorical"
   ]
  },
  {
   "cell_type": "code",
   "execution_count": 55,
   "metadata": {},
   "outputs": [],
   "source": [
    "#load pre-processed training and testing datasets\n",
    "#since the EMNIST dataset is already separately loaded from the mat file, \n",
    "#and since the validation data will be split using the ImageDataGenerator() class later on,\n",
    "#train_test_split is not necessary to manually split the data\n",
    "#unless for training a portion of the training dataset during optimization"
   ]
  },
  {
   "cell_type": "code",
   "execution_count": 65,
   "metadata": {},
   "outputs": [],
   "source": [
    "#data augmentation' of training data\n",
    "from keras.preprocessing.image import ImageDataGenerator"
   ]
  },
  {
   "cell_type": "code",
   "execution_count": 57,
   "metadata": {},
   "outputs": [
    {
     "data": {
      "text/plain": [
       "(697932, 28, 28, 1)"
      ]
     },
     "execution_count": 57,
     "metadata": {},
     "output_type": "execute_result"
    }
   ],
   "source": [
    "#reshape training and testing datasets to 4D tensors\n",
    "X_train = X_train.reshape(-1, 28, 28, 1) #Xtrain\n",
    "X_test = X_test.reshape(-1, 28, 28, 1) #Xtrain\n",
    "# convert to float\n",
    "X_train = X_train.astype('float32')\n",
    "X_test = X_test.astype('float32')"
   ]
  },
  {
   "cell_type": "code",
   "execution_count": 58,
   "metadata": {},
   "outputs": [],
   "source": [
    "'''keras CNN: logistic regression'''\n",
    "from keras.layers import Conv2D, Flatten, MaxPooling2D, Dense, Activation\n",
    "from keras.activations import relu\n",
    "from keras.losses import categorical_crossentropy\n",
    "from keras.optimizers import Adam\n",
    "from keras.layers import BatchNormalization, Dropout"
   ]
  },
  {
   "cell_type": "code",
   "execution_count": 82,
   "metadata": {},
   "outputs": [],
   "source": [
    "#specify hyperparams\n",
    "batch_size = 64\n",
    "epoch = 30\n",
    "num_classes = 62 #since there are 62 classes in the By_Class dataset"
   ]
  },
  {
   "cell_type": "code",
   "execution_count": 60,
   "metadata": {},
   "outputs": [],
   "source": [
    "'''CNN using keras'''\n",
    "#try 2 layers 1st\n",
    "def model_CNN():\n",
    "    model = keras.Sequential()\n",
    "\n",
    "    model.add(Conv2D(32, kernel_size=(3,3), input_shape=(28,28,1), padding = 'same', activation ='relu'))\n",
    "    model.add(BatchNormalization())\n",
    "    model.add(Conv2D(32, kernel_size=(3,3), input_shape=(28,28,1), padding = 'same', activation ='relu'))\n",
    "    model.add(BatchNormalization())\n",
    "    model.add(Conv2D(32, kernel_size=(3,3), input_shape=(28,28,1), padding = 'same', activation ='relu'))\n",
    "    model.add(BatchNormalization())\n",
    "    model.add(Dropout(0.2))\n",
    "\n",
    "    model.add(MaxPooling2D((2,2), padding = 'same')) #halve the dimension\n",
    "    model.add(Dropout(0.2))\n",
    "    \n",
    "    model.add(Conv2D(64, kernel_size=(3,3), input_shape=(28,28,1), padding = 'same', activation ='relu'))\n",
    "    model.add(BatchNormalization())\n",
    "    model.add(Conv2D(64, kernel_size=(3,3), input_shape=(28,28,1), padding = 'same', activation ='relu'))\n",
    "    model.add(BatchNormalization())\n",
    "    model.add(Conv2D(64, kernel_size=(3,3), input_shape=(28,28,1), padding = 'same', activation ='relu'))\n",
    "    model.add(BatchNormalization())\n",
    "    model.add(Dropout(0.2))\n",
    "\n",
    "    model.add(MaxPooling2D((2,2), padding = 'same')) #halve the dimension\n",
    "    model.add(Dropout(0.2))\n",
    "\n",
    "    model.add(Conv2D(128, kernel_size=(3,3), input_shape=(28,28,1), padding = 'same', activation ='relu'))\n",
    "    model.add(BatchNormalization())\n",
    "    model.add(Dropout(0.2))\n",
    "    model.add(MaxPooling2D((2,2), padding = 'same')) #halve the dimension\n",
    "    model.add(Dropout(0.2))\n",
    "    \n",
    "    model.add(Flatten())\n",
    "    model.add(Dropout(0.2))\n",
    "\n",
    "    #add a batch normalization layer to normalize the data before activating\n",
    "\n",
    "    model.add(Dense(num_classes))\n",
    "    model.add(Activation('softmax'))\n",
    "    \n",
    "    return model"
   ]
  },
  {
   "cell_type": "code",
   "execution_count": 61,
   "metadata": {},
   "outputs": [],
   "source": [
    "model = model_CNN()"
   ]
  },
  {
   "cell_type": "code",
   "execution_count": 62,
   "metadata": {},
   "outputs": [],
   "source": [
    "model.compile(loss = categorical_crossentropy, optimizer = Adam(), metrics = ['accuracy'])"
   ]
  },
  {
   "cell_type": "code",
   "execution_count": 63,
   "metadata": {},
   "outputs": [
    {
     "name": "stdout",
     "output_type": "stream",
     "text": [
      "Model: \"sequential_1\"\n",
      "_________________________________________________________________\n",
      "Layer (type)                 Output Shape              Param #   \n",
      "=================================================================\n",
      "conv2d_1 (Conv2D)            (None, 28, 28, 32)        320       \n",
      "_________________________________________________________________\n",
      "batch_normalization_1 (Batch (None, 28, 28, 32)        128       \n",
      "_________________________________________________________________\n",
      "conv2d_2 (Conv2D)            (None, 28, 28, 32)        9248      \n",
      "_________________________________________________________________\n",
      "batch_normalization_2 (Batch (None, 28, 28, 32)        128       \n",
      "_________________________________________________________________\n",
      "conv2d_3 (Conv2D)            (None, 28, 28, 32)        9248      \n",
      "_________________________________________________________________\n",
      "batch_normalization_3 (Batch (None, 28, 28, 32)        128       \n",
      "_________________________________________________________________\n",
      "dropout_1 (Dropout)          (None, 28, 28, 32)        0         \n",
      "_________________________________________________________________\n",
      "max_pooling2d_1 (MaxPooling2 (None, 14, 14, 32)        0         \n",
      "_________________________________________________________________\n",
      "dropout_2 (Dropout)          (None, 14, 14, 32)        0         \n",
      "_________________________________________________________________\n",
      "conv2d_4 (Conv2D)            (None, 14, 14, 64)        18496     \n",
      "_________________________________________________________________\n",
      "batch_normalization_4 (Batch (None, 14, 14, 64)        256       \n",
      "_________________________________________________________________\n",
      "conv2d_5 (Conv2D)            (None, 14, 14, 64)        36928     \n",
      "_________________________________________________________________\n",
      "batch_normalization_5 (Batch (None, 14, 14, 64)        256       \n",
      "_________________________________________________________________\n",
      "conv2d_6 (Conv2D)            (None, 14, 14, 64)        36928     \n",
      "_________________________________________________________________\n",
      "batch_normalization_6 (Batch (None, 14, 14, 64)        256       \n",
      "_________________________________________________________________\n",
      "dropout_3 (Dropout)          (None, 14, 14, 64)        0         \n",
      "_________________________________________________________________\n",
      "max_pooling2d_2 (MaxPooling2 (None, 7, 7, 64)          0         \n",
      "_________________________________________________________________\n",
      "dropout_4 (Dropout)          (None, 7, 7, 64)          0         \n",
      "_________________________________________________________________\n",
      "conv2d_7 (Conv2D)            (None, 7, 7, 128)         73856     \n",
      "_________________________________________________________________\n",
      "batch_normalization_7 (Batch (None, 7, 7, 128)         512       \n",
      "_________________________________________________________________\n",
      "dropout_5 (Dropout)          (None, 7, 7, 128)         0         \n",
      "_________________________________________________________________\n",
      "max_pooling2d_3 (MaxPooling2 (None, 4, 4, 128)         0         \n",
      "_________________________________________________________________\n",
      "dropout_6 (Dropout)          (None, 4, 4, 128)         0         \n",
      "_________________________________________________________________\n",
      "flatten_1 (Flatten)          (None, 2048)              0         \n",
      "_________________________________________________________________\n",
      "dropout_7 (Dropout)          (None, 2048)              0         \n",
      "_________________________________________________________________\n",
      "dense_1 (Dense)              (None, 62)                127038    \n",
      "_________________________________________________________________\n",
      "activation_1 (Activation)    (None, 62)                0         \n",
      "=================================================================\n",
      "Total params: 313,726\n",
      "Trainable params: 312,894\n",
      "Non-trainable params: 832\n",
      "_________________________________________________________________\n"
     ]
    }
   ],
   "source": [
    "model.summary()"
   ]
  },
  {
   "cell_type": "code",
   "execution_count": 78,
   "metadata": {},
   "outputs": [],
   "source": [
    "#data augmentation\n",
    "\n",
    "train_datagen = ImageDataGenerator(validation_split = 0.2, rotation_range=10, width_shift_range=0.1, \n",
    "                                   height_shift_range=0.1, zoom_range=0.1) \n",
    "\n",
    "train_generator = train_datagen.flow(x = X_train, y = Y_train, batch_size= 128, shuffle = True, subset = 'training') #Y_train__\n",
    "validation_generator = train_datagen.flow(x = X_train, y = Y_train, batch_size= 128, shuffle = True, subset = 'validation')"
   ]
  },
  {
   "cell_type": "code",
   "execution_count": 79,
   "metadata": {},
   "outputs": [],
   "source": [
    "from keras.callbacks import History"
   ]
  },
  {
   "cell_type": "code",
   "execution_count": 84,
   "metadata": {},
   "outputs": [
    {
     "name": "stdout",
     "output_type": "stream",
     "text": [
      "Epoch 1/20\n",
      "2500/2500 [==============================] - 580s 232ms/step - loss: 0.3603 - accuracy: 0.8656 - val_loss: 0.3805 - val_accuracy: 0.8572\n",
      "Epoch 2/20\n",
      "2500/2500 [==============================] - 580s 232ms/step - loss: 0.3614 - accuracy: 0.8655 - val_loss: 0.4169 - val_accuracy: 0.8616\n",
      "Epoch 3/20\n",
      "2500/2500 [==============================] - 579s 232ms/step - loss: 0.3593 - accuracy: 0.8658 - val_loss: 0.3840 - val_accuracy: 0.8634\n",
      "Epoch 4/20\n",
      "2500/2500 [==============================] - 580s 232ms/step - loss: 0.3593 - accuracy: 0.8658 - val_loss: 0.1899 - val_accuracy: 0.8622\n",
      "Epoch 5/20\n",
      "2500/2500 [==============================] - 580s 232ms/step - loss: 0.3580 - accuracy: 0.8663 - val_loss: 0.2636 - val_accuracy: 0.8535\n",
      "Epoch 6/20\n",
      "2500/2500 [==============================] - 580s 232ms/step - loss: 0.3557 - accuracy: 0.8672 - val_loss: 0.3241 - val_accuracy: 0.8612\n",
      "Epoch 7/20\n",
      "2500/2500 [==============================] - 580s 232ms/step - loss: 0.3573 - accuracy: 0.8669 - val_loss: 0.3496 - val_accuracy: 0.8654\n",
      "Epoch 8/20\n",
      "2500/2500 [==============================] - 579s 232ms/step - loss: 0.3544 - accuracy: 0.8676 - val_loss: 0.2631 - val_accuracy: 0.8523\n",
      "Epoch 9/20\n",
      "2500/2500 [==============================] - 579s 232ms/step - loss: 0.3545 - accuracy: 0.8677 - val_loss: 0.4725 - val_accuracy: 0.8374\n",
      "Epoch 10/20\n",
      "2500/2500 [==============================] - 580s 232ms/step - loss: 0.3525 - accuracy: 0.8676 - val_loss: 0.3138 - val_accuracy: 0.8632\n",
      "Epoch 11/20\n",
      "2500/2500 [==============================] - 579s 232ms/step - loss: 0.3518 - accuracy: 0.8684 - val_loss: 0.4187 - val_accuracy: 0.8569\n",
      "Epoch 12/20\n",
      "2500/2500 [==============================] - 579s 232ms/step - loss: 0.3515 - accuracy: 0.8689 - val_loss: 0.6353 - val_accuracy: 0.8574\n",
      "Epoch 13/20\n",
      "2500/2500 [==============================] - 579s 232ms/step - loss: 0.3521 - accuracy: 0.8687 - val_loss: 0.3406 - val_accuracy: 0.8669\n",
      "Epoch 14/20\n",
      "2500/2500 [==============================] - 579s 232ms/step - loss: 0.3500 - accuracy: 0.8692 - val_loss: 0.4303 - val_accuracy: 0.8612\n",
      "Epoch 15/20\n",
      "2500/2500 [==============================] - 580s 232ms/step - loss: 0.3512 - accuracy: 0.8685 - val_loss: 0.2698 - val_accuracy: 0.8674\n",
      "Epoch 16/20\n",
      "2500/2500 [==============================] - 580s 232ms/step - loss: 0.3488 - accuracy: 0.8689 - val_loss: 0.2094 - val_accuracy: 0.8625\n",
      "Epoch 17/20\n",
      "2500/2500 [==============================] - 580s 232ms/step - loss: 0.3473 - accuracy: 0.8701 - val_loss: 0.3823 - val_accuracy: 0.8514\n",
      "Epoch 18/20\n",
      "2500/2500 [==============================] - 580s 232ms/step - loss: 0.3472 - accuracy: 0.8702 - val_loss: 0.4373 - val_accuracy: 0.8633\n",
      "Epoch 19/20\n",
      "2500/2500 [==============================] - 580s 232ms/step - loss: 0.3487 - accuracy: 0.8693 - val_loss: 0.4951 - val_accuracy: 0.8681\n",
      "Epoch 20/20\n",
      "2500/2500 [==============================] - 580s 232ms/step - loss: 0.3466 - accuracy: 0.8697 - val_loss: 0.2911 - val_accuracy: 0.8692\n"
     ]
    }
   ],
   "source": [
    "h = model.fit_generator(train_generator, steps_per_epoch= 8700, epochs=epoch,\n",
    "        validation_data=validation_generator, validation_steps=2000)"
   ]
  },
  {
   "cell_type": "code",
   "execution_count": 89,
   "metadata": {},
   "outputs": [
    {
     "data": {
      "image/png": "[encoded data removed]",
      "text/plain": [
       "<Figure size 432x288 with 1 Axes>"
      ]
     },
     "metadata": {
      "needs_background": "light"
     },
     "output_type": "display_data"
    },
    {
     "data": {
      "image/png": "[encoded data removed]",
      "text/plain": [
       "<Figure size 432x288 with 1 Axes>"
      ]
     },
     "metadata": {
      "needs_background": "light"
     },
     "output_type": "display_data"
    }
   ],
   "source": [
    "'''plot training accuracy vs validation accuracy'''\n",
    "# list all data in history\n",
    "#print(model.history.keys())\n",
    "# summarize history for accuracy\n",
    "plt.plot(h.history['accuracy'])\n",
    "plt.plot(h.history['val_accuracy'])\n",
    "plt.title('model accuracy')\n",
    "plt.ylabel('accuracy')\n",
    "plt.xlabel('epoch')\n",
    "plt.legend(['train', 'validation'], loc='upper left')\n",
    "plt.savefig('C:/Users/yanhui/Documents/Jelah/Acronis/training_figures/_690k_20epochs_128batchsize_13layers_acc.jpeg')\n",
    "plt.show()\n",
    "# summarize history for loss\n",
    "plt.plot(h.history['loss'])\n",
    "plt.plot(h.history['val_loss'])\n",
    "plt.title('model loss')\n",
    "plt.ylabel('loss')\n",
    "plt.xlabel('epoch')\n",
    "plt.legend(['train', 'validation'], loc='upper left')\n",
    "plt.savefig('C:/Users/yanhui/Documents/Jelah/Acronis/training_figures/690k_20epochs_128batchsize_13layers_loss.jpeg')\n",
    "plt.show()\n",
    "\n"
   ]
  },
  {
   "cell_type": "code",
   "execution_count": 90,
   "metadata": {},
   "outputs": [],
   "source": [
    "#save history for each training to csv\n",
    "hist_df = pd.DataFrame(h.history) \n",
    "hist_csv_file = 'model.csv'\n",
    "with open(hist_csv_file, mode='w') as f:\n",
    "    hist_df.to_csv(f)"
   ]
  },
  {
   "cell_type": "code",
   "execution_count": 91,
   "metadata": {},
   "outputs": [],
   "source": [
    "#save trained model\n",
    "model.save(\"model\")"
   ]
  },
  {
   "cell_type": "code",
   "execution_count": 13,
   "metadata": {},
   "outputs": [],
   "source": [
    "#prediction and evaluation of prediction\n",
    "test_predict = model.predict(X_test) #make a prediction for each testing output\n",
    "test_eval = model.evaluate(X_test, Y_test, batch_size = 64)"
   ]
  },
  {
   "cell_type": "code",
   "execution_count": 31,
   "metadata": {},
   "outputs": [],
   "source": [
    "#class determination of testing dataset \n",
    "y_classes = test_predict.argmax(axis=-1) #prediction classes\n",
    "Y_test_classes = Y_test.argmax(axis=-1)"
   ]
  },
  {
   "cell_type": "code",
   "execution_count": 35,
   "metadata": {},
   "outputs": [],
   "source": [
    "from sklearn.metrics import classification_report, confusion_matrix"
   ]
  },
  {
   "cell_type": "code",
   "execution_count": 37,
   "metadata": {},
   "outputs": [],
   "source": [
    "#precision recall, F1 score\n",
    "report = classification_report(Y_test_classes,y_classes, output_dict=True)\n",
    "class_report = pd.DataFrame(report).transpose()\n",
    "class_report.to_csv('classificationreport.csv, index = True)"
   ]
  },
  {
   "cell_type": "code",
   "execution_count": 33,
   "metadata": {},
   "outputs": [],
   "source": [
    "#confusion matrix\n",
    "confusion_mat = confusion_matrix(Y_test_classes,y_classes)\n",
    "confusion_mat = pd.DataFrame(confusion_mat).transpose()\n",
    "confusion_mat.to_csv('confusionmatrix.csv', index = True)\n"
   ]
  }
 ],
 "metadata": {
  "kernelspec": {
   "display_name": "Python 3",
   "language": "python",
   "name": "python3"
  },
  "language_info": {
   "codemirror_mode": {
    "name": "ipython",
    "version": 3
   },
   "file_extension": ".py",
   "mimetype": "text/x-python",
   "name": "python",
   "nbconvert_exporter": "python",
   "pygments_lexer": "ipython3",
   "version": "3.7.5"
  }
 },
 "nbformat": 4,
 "nbformat_minor": 2
}
