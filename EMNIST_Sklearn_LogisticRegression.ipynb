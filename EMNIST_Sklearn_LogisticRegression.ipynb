{
 "cells": [
  {
   "cell_type": "markdown",
   "metadata": {},
   "source": [
    "1. Use https://www.nist.gov/node/1298471/emnist-dataset EMNIST ByClass datasets from scikit-learn\n",
    "2. Use matlab file version\n",
    "3. Use pandas to store and view data and perform descriptive statistics\n",
    "4. Use pandas groupby to view data by classes, digits, letters\n",
    "5. Display images of digits\n",
    "6. Demonstrate pre-processing steps of scaling, gray-scaling, centering (sample, feature etc)\n",
    "7. Use image augmentation to generate larger training dataset (flip, rotate, translate, shear, noise etc)\n",
    "8. Splitting of train/test datasets\n",
    "9. Logistic Regression modelling using scikit-learn / CNN modelling using Keras or Tensorflow\n",
    "10. Model performance results - precision, recall, F1 Score, ROC Curve\n",
    "11. Print and display confusion matrix\n",
    "12. Write report to explain process and results"
   ]
  },
  {
   "cell_type": "code",
   "execution_count": 1,
   "metadata": {},
   "outputs": [],
   "source": [
    "import numpy as np\n",
    "import pandas as pd\n",
    "from pandas import Series,DataFrame\n",
    "import matplotlib.pyplot as plt\n",
    "%matplotlib inline"
   ]
  },
  {
   "cell_type": "code",
   "execution_count": 2,
   "metadata": {},
   "outputs": [
    {
     "name": "stderr",
     "output_type": "stream",
     "text": [
      "Using TensorFlow backend.\n"
     ]
    }
   ],
   "source": [
    "import tensorflow as tf\n",
    "import keras\n",
    "import sklearn\n",
    "from sklearn.model_selection import train_test_split"
   ]
  },
  {
   "cell_type": "code",
   "execution_count": 8,
   "metadata": {},
   "outputs": [],
   "source": [
    "from sklearn.linear_model import LogisticRegression\n",
    "from sklearn.model_selection import learning_curve"
   ]
  },
  {
   "cell_type": "code",
   "execution_count": null,
   "metadata": {},
   "outputs": [],
   "source": [
    "#load EMNIST dataset"
   ]
  },
  {
   "cell_type": "code",
   "execution_count": 19,
   "metadata": {},
   "outputs": [],
   "source": [
    "#create an instance of the Logistic Regression model\n",
    "logisticRegr = LogisticRegression(solver = 'saga', max_iter = 40000, multi_class = 'multinomial', verbose = 2, C=0.1, tol = 0.1) "
   ]
  },
  {
   "cell_type": "code",
   "execution_count": 20,
   "metadata": {},
   "outputs": [],
   "source": [
    "#to check run time\n",
    "import time\n",
    "t0 = time.time()"
   ]
  },
  {
   "cell_type": "code",
   "execution_count": null,
   "metadata": {},
   "outputs": [],
   "source": [
    "#fit training data to model\n",
    "logisticRegr.fit(X_train, Y_train)"
   ]
  },
  {
   "cell_type": "code",
   "execution_count": null,
   "metadata": {},
   "outputs": [],
   "source": [
    "run_time = time.time() - t0\n",
    "run_time"
   ]
  },
  {
   "cell_type": "code",
   "execution_count": null,
   "metadata": {},
   "outputs": [],
   "source": [
    "train_acc = logisticRegr.score(X_train, Y_train)\n",
    "test_acc = logisticRegr.score(X_test, Y_test)\n",
    "train_acc, test_acc"
   ]
  },
  {
   "cell_type": "code",
   "execution_count": null,
   "metadata": {},
   "outputs": [],
   "source": [
    "#save model to file\n",
    "import pickle\n",
    "filename = 'model.sav'\n",
    "pickle.dump(logisticRegr, open(filename, 'wb'))"
   ]
  },
  {
   "cell_type": "code",
   "execution_count": 35,
   "metadata": {},
   "outputs": [],
   "source": [
    "from sklearn.metrics import classification_report, confusion_matrix\n",
    "test_predict = logisticRegr.predict(X_test)"
   ]
  },
  {
   "cell_type": "code",
   "execution_count": 38,
   "metadata": {},
   "outputs": [],
   "source": [
    "#confusion matrix'''\n",
    "confusion_mat = confusion_matrix(Y_test,test_predict)\n",
    "confusion_mat = pd.DataFrame(confusion_mat).transpose()\n",
    "confusion_mat.to_csv('confusionmatrix', index = True)"
   ]
  },
  {
   "cell_type": "code",
   "execution_count": null,
   "metadata": {},
   "outputs": [],
   "source": [
    "#F1 score, precision recall\n",
    "report = classification_report(Y_test,test_predict, output_dict=True)\n",
    "class_report = pd.DataFrame(report).transpose()\n",
    "class_report.to_csv('classificationreport', index = True)"
   ]
  },
  {
   "cell_type": "code",
   "execution_count": 44,
   "metadata": {},
   "outputs": [],
   "source": [
    "y_score = logisticRegr.decision_function(X_test)"
   ]
  }
 ],
 "metadata": {
  "kernelspec": {
   "display_name": "Python 3",
   "language": "python",
   "name": "python3"
  },
  "language_info": {
   "codemirror_mode": {
    "name": "ipython",
    "version": 3
   },
   "file_extension": ".py",
   "mimetype": "text/x-python",
   "name": "python",
   "nbconvert_exporter": "python",
   "pygments_lexer": "ipython3",
   "version": "3.7.5"
  }
 },
 "nbformat": 4,
 "nbformat_minor": 2
}
