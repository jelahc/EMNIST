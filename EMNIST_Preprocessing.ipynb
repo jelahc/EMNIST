{
 "cells": [
  {
   "cell_type": "markdown",
   "metadata": {},
   "source": [
    "1. Use https://www.nist.gov/node/1298471/emnist-dataset EMNIST ByClass datasets from scikit-learn\n",
    "2. Use matlab file version\n",
    "3. Use pandas to store and view data and perform descriptive statistics\n",
    "4. Use pandas groupby to view data by classes, digits, letters\n",
    "5. Display images of digits\n",
    "6. Demonstrate pre-processing steps of scaling, gray-scaling, centering (sample, feature etc)\n",
    "7. Use image augmentation to generate larger training dataset (flip, rotate, translate, shear, noise etc)\n",
    "8. Splitting of train/test datasets\n",
    "9. Logistic Regression modelling using scikit-learn\n",
    "10. Model performance results - precision, recall, F1 Score, ROC Curve\n",
    "11. Print and display confusion matrix\n",
    "12. Write report to explain process and results"
   ]
  },
  {
   "cell_type": "code",
   "execution_count": 9,
   "metadata": {},
   "outputs": [],
   "source": [
    "import numpy as np\n",
    "import pandas as pd\n",
    "from pandas import Series,DataFrame\n",
    "import matplotlib.pyplot as plt\n",
    "%matplotlib inline"
   ]
  },
  {
   "cell_type": "code",
   "execution_count": 10,
   "metadata": {},
   "outputs": [],
   "source": [
    "import tensorflow as tf\n",
    "import keras\n",
    "import sklearn\n",
    "from sklearn.model_selection import train_test_split"
   ]
  },
  {
   "cell_type": "code",
   "execution_count": 3,
   "metadata": {},
   "outputs": [
    {
     "data": {
      "text/plain": [
       "dict_keys(['__header__', '__version__', '__globals__', 'dataset'])"
      ]
     },
     "execution_count": 3,
     "metadata": {},
     "output_type": "execute_result"
    }
   ],
   "source": [
    "'''load dataset'''\n",
    "from scipy.io import loadmat\n",
    "emnist = loadmat('C:/Users/yanhui/Documents/Jelah/Acronis/matlab/emnist-byclass.mat')\n",
    "emnist.keys()"
   ]
  },
  {
   "cell_type": "code",
   "execution_count": 4,
   "metadata": {},
   "outputs": [
    {
     "name": "stderr",
     "output_type": "stream",
     "text": [
      "Using TensorFlow backend.\n"
     ]
    }
   ],
   "source": [
    "from keras.utils import to_categorical"
   ]
  },
  {
   "cell_type": "code",
   "execution_count": 5,
   "metadata": {},
   "outputs": [],
   "source": [
    "data = emnist['dataset']\n",
    "#row form"
   ]
  },
  {
   "cell_type": "code",
   "execution_count": 6,
   "metadata": {},
   "outputs": [
    {
     "data": {
      "text/plain": [
       "((697932, 784), (697932, 1), (116323, 784), (116323, 1))"
      ]
     },
     "execution_count": 6,
     "metadata": {},
     "output_type": "execute_result"
    }
   ],
   "source": [
    "'''load data'''\n",
    "#since the data is already divided into training and testing sets (as mentioned in the paper),\n",
    "#load them separately into training and testing sets\n",
    "\n",
    "x_train = data['train'][0,0]['images'][0,0]\n",
    "y_train = data['train'][0,0]['labels'][0,0]\n",
    "x_test = data['test'][0,0]['images'][0,0]\n",
    "y_test = data['test'][0,0]['labels'][0,0]"
   ]
  },
  {
   "cell_type": "code",
   "execution_count": 7,
   "metadata": {},
   "outputs": [],
   "source": [
    "'''convert input images from numpy array to df'''\n",
    "\n",
    "def convert_to_df(x_train,  y_train, x_test, y_test): #row pd\n",
    "    train_row = pd.DataFrame(x_train)\n",
    "    test_row = pd.DataFrame(x_test)\n",
    "    train_label_row = pd.DataFrame(y_train)\n",
    "    test_label_row = pd.DataFrame(y_test)\n",
    "    return train_row, train_label_row, test_row, test_label_row\n",
    "#df form\n",
    "train_row, train_label_row, test_row, test_label_row = convert_to_df(x_train, y_train, x_test, y_test)"
   ]
  },
  {
   "cell_type": "code",
   "execution_count": 10,
   "metadata": {},
   "outputs": [],
   "source": [
    "'''descriptive statistics'''\n",
    "def desc_stat(train,test):\n",
    "    train_stat = train.describe()\n",
    "    test_stat = train.describe()\n",
    "    \n",
    "    return train_stat, test_stat"
   ]
  },
  {
   "cell_type": "code",
   "execution_count": 11,
   "metadata": {},
   "outputs": [],
   "source": [
    "'''insert classes row to training and testing datasets for groupby'''\n",
    "train_comb = np.append(train_row, train_label_row, axis=1)\n",
    "test_comb = np.append(test_row, test_label_row, axis=1)"
   ]
  },
  {
   "cell_type": "code",
   "execution_count": 12,
   "metadata": {},
   "outputs": [],
   "source": [
    "'''groupby training data'''\n",
    "#group the train data into classes and return the indices of images pertaining to each class\n",
    "def groupby_train(train,train_label_row):\n",
    "    A = np.array(train_label_row).T\n",
    "    classes = A[0] \n",
    "    group = train.groupby(classes).groups\n",
    "    \n",
    "    return group\n",
    "\n",
    "def groupby_test(test,test_label_row):\n",
    "    A = np.array(test_label_row).T\n",
    "    classes = A[0] \n",
    "    group = test.groupby(classes).groups\n",
    "    \n",
    "    return group\n",
    "\n",
    "    "
   ]
  },
  {
   "cell_type": "code",
   "execution_count": 13,
   "metadata": {},
   "outputs": [
    {
     "data": {
      "text/plain": [
       "(62, 62)"
      ]
     },
     "execution_count": 13,
     "metadata": {},
     "output_type": "execute_result"
    }
   ],
   "source": [
    "#indices of images sorted by classes\n",
    "train_grp = groupby_train(train_row, train_label_row)\n",
    "test_grp = groupby_test(test_row, test_label_row)\n",
    "\n",
    "len(train_grp), len(test_grp)"
   ]
  },
  {
   "cell_type": "code",
   "execution_count": 12,
   "metadata": {},
   "outputs": [],
   "source": [
    "'''reshape arrays'''\n",
    "def reshape_arr(train, test):\n",
    "    sq_train = train.reshape(-1,28,28)\n",
    "    sq_test = test.reshape(-1,28,28)\n",
    "    return sq_train, sq_test\n",
    "\n",
    "#the loaded arrays are not in the proper orientation\n",
    "Xtrain, Xtest = reshape_arr(x_train, x_test)"
   ]
  },
  {
   "cell_type": "code",
   "execution_count": 14,
   "metadata": {},
   "outputs": [
    {
     "data": {
      "text/plain": [
       "<matplotlib.image.AxesImage at 0x1ffc8a53988>"
      ]
     },
     "execution_count": 14,
     "metadata": {},
     "output_type": "execute_result"
    },
    {
     "data": {
      "image/png": "[encoded data removed]",
      "text/plain": [
       "<Figure size 432x288 with 1 Axes>"
      ]
     },
     "metadata": {
      "needs_background": "light"
     },
     "output_type": "display_data"
    }
   ],
   "source": [
    "#check orientation of images loaded\n",
    "plt.imshow(Xtrain[9])"
   ]
  },
  {
   "cell_type": "code",
   "execution_count": 15,
   "metadata": {},
   "outputs": [],
   "source": [
    "#re-orient the images\n",
    "def rot_flip(train,test):\n",
    "    sq_flipped_train = []\n",
    "    sq_flipped_test = []\n",
    "    for i in range(len(train)):\n",
    "        sq_rot_train = np.rot90(train[i])\n",
    "        sq_flip_train = np.flipud(sq_rot_train)\n",
    "        sq_flipped_train.append(sq_flip_train)\n",
    "    sq_flipped_train = np.array(sq_flipped_train)\n",
    "    \n",
    "    for j in range(len(test)):\n",
    "        sq_rot_test = np.rot90(test[j])\n",
    "        sq_flip_test = np.flipud(sq_rot_test)\n",
    "        sq_flipped_test.append(sq_flip_test)\n",
    "    sq_flipped_test = np.array(sq_flipped_test)\n",
    "        \n",
    "    return sq_flipped_train, sq_flipped_test\n",
    "Xtrain, Xtest = rot_flip(Xtrain,Xtest)"
   ]
  },
  {
   "cell_type": "code",
   "execution_count": 17,
   "metadata": {},
   "outputs": [
    {
     "data": {
      "text/plain": [
       "<matplotlib.image.AxesImage at 0x1ffc8ade808>"
      ]
     },
     "execution_count": 17,
     "metadata": {},
     "output_type": "execute_result"
    },
    {
     "data": {
      "image/png": "[encoded data removed]",
      "text/plain": [
       "<Figure size 432x288 with 1 Axes>"
      ]
     },
     "metadata": {
      "needs_background": "light"
     },
     "output_type": "display_data"
    }
   ],
   "source": [
    "#check orientation of images after re-orientation\n",
    "plt.imshow(Xtrain[9])"
   ]
  },
  {
   "cell_type": "code",
   "execution_count": 62,
   "metadata": {},
   "outputs": [],
   "source": [
    "'''display images of the first digits'''\n",
    "def display_train(train):\n",
    "    plt.figure(figsize=[15,15])\n",
    "    for i in range(10):\n",
    "        plt.subplot(10,10,i+1)\n",
    "        train_index = train_grp[i][0]\n",
    "        plt.imshow(train[train_index])\n",
    "        plt.gray()\n",
    "        \n",
    "def display_test(test):\n",
    "    plt.figure(figsize=[15,15])\n",
    "    for j in range(10):\n",
    "        plt.subplot(10,10,j+1)\n",
    "        test_index = test_grp[j][0]\n",
    "        plt.imshow(test[test_index])\n",
    "        plt.gray()\n",
    "        \n",
    "display_train(Xtrain)\n",
    "display_test(Xtest)"
   ]
  },
  {
   "cell_type": "code",
   "execution_count": null,
   "metadata": {},
   "outputs": [],
   "source": [
    "'''data preprocessing'''"
   ]
  },
  {
   "cell_type": "code",
   "execution_count": 17,
   "metadata": {},
   "outputs": [],
   "source": [
    "'''data normalization'''\n",
    "#normalize the input data to [0,1] range\n",
    "def normalize_img(train,test):\n",
    "    train_norm = train/255\n",
    "    test_norm = test/255\n",
    "    \n",
    "    return train_norm, test_norm\n",
    "\n",
    "Xtrain, Xtest = normalize_img(Xtrain,Xtest)"
   ]
  },
  {
   "cell_type": "code",
   "execution_count": 22,
   "metadata": {},
   "outputs": [],
   "source": [
    "'''label conversion to one-hot vectors'''\n",
    "#convert the y_train adn y_test to one-hot vectors\n",
    "def one_hot_label(train,test):\n",
    "    train_label = to_categorical(train)\n",
    "    test_label = to_categorical(test)\n",
    "    \n",
    "    return train_label, test_label\n",
    "Ytrain, Ytest = one_hot_label(y_train, y_test)"
   ]
  },
  {
   "cell_type": "code",
   "execution_count": 25,
   "metadata": {},
   "outputs": [
    {
     "data": {
      "text/plain": [
       "((697932, 28, 28), (116323, 28, 28))"
      ]
     },
     "execution_count": 25,
     "metadata": {},
     "output_type": "execute_result"
    }
   ],
   "source": [
    "'''standardize the images'''\n",
    "def standardize_img(train, test):\n",
    "    #calculate mean and standard deviation\n",
    "    m = train.mean()\n",
    "    s = train.std()\n",
    "    #center and standardize datasets:\n",
    "    train_std = (train - m)/s\n",
    "    test_std = (test - m)/s\n",
    "    #return standardized images\n",
    "    return train_std, test_std\n",
    "\n",
    "Xtrain, Xtest = standardize_img(Xtrain, Xtest)"
   ]
  },
  {
   "cell_type": "code",
   "execution_count": null,
   "metadata": {},
   "outputs": [],
   "source": [
    "'''save np arrays to binary files for fast loading'''\n",
    "np.save('C:/Users/yanhui/Documents/Jelah/Acronis/Xtrain', Xtrain)\n",
    "np.save('C:/Users/yanhui/Documents/Jelah/Acronis/Xtest', Xtest)\n",
    "np.save('C:/Users/yanhui/Documents/Jelah/Acronis/Y_train', Ytrain)\n",
    "np.save('C:/Users/yanhui/Documents/Jelah/Acronis/Y_test', Ytest)"
   ]
  }
 ],
 "metadata": {
  "kernelspec": {
   "display_name": "Python 3",
   "language": "python",
   "name": "python3"
  },
  "language_info": {
   "codemirror_mode": {
    "name": "ipython",
    "version": 3
   },
   "file_extension": ".py",
   "mimetype": "text/x-python",
   "name": "python",
   "nbconvert_exporter": "python",
   "pygments_lexer": "ipython3",
   "version": "3.7.5"
  }
 },
 "nbformat": 4,
 "nbformat_minor": 2
}
